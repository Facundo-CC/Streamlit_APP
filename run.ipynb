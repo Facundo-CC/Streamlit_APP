{
 "cells": [
  {
   "cell_type": "markdown",
   "metadata": {},
   "source": [
    "import streamlit"
   ]
  },
  {
   "cell_type": "code",
   "execution_count": null,
   "metadata": {},
   "outputs": [],
   "source": [
    "%pip freeze > requirements.txt\n"
   ]
  },
  {
   "cell_type": "code",
   "execution_count": null,
   "metadata": {},
   "outputs": [
    {
     "name": "stdout",
     "output_type": "stream",
     "text": [
      "\u001b[0m\n",
      "\u001b[34m\u001b[1m  You can now view your Streamlit app in your browser.\u001b[0m\n",
      "\u001b[0m\n",
      "\u001b[34m  Local URL: \u001b[0m\u001b[1mhttp://localhost:8501\u001b[0m\n",
      "\u001b[34m  Network URL: \u001b[0m\u001b[1mhttp://10.22.179.136:8501\u001b[0m\n",
      "\u001b[34m  External URL: \u001b[0m\u001b[1mhttp://131.178.102.160:8501\u001b[0m\n",
      "\u001b[0m\n",
      "\u001b[34m\u001b[1m  For better performance, install the Watchdog module:\u001b[0m\n",
      "\n",
      "  $ xcode-select --install\n",
      "  $ pip install watchdog\n",
      "            \u001b[0m\n",
      "2025-05-16 08:22:37.970 Uncaught app execution\n",
      "Traceback (most recent call last):\n",
      "  File \"/Users/facundocolasurdocaldironi/.pyenv/versions/3.10.13/lib/python3.10/site-packages/streamlit/runtime/scriptrunner/exec_code.py\", line 121, in exec_func_with_error_handling\n",
      "    result = func()\n",
      "  File \"/Users/facundocolasurdocaldironi/.pyenv/versions/3.10.13/lib/python3.10/site-packages/streamlit/runtime/scriptrunner/script_runner.py\", line 643, in code_to_exec\n",
      "    _mpa_v1(self._main_script_path)\n",
      "  File \"/Users/facundocolasurdocaldironi/.pyenv/versions/3.10.13/lib/python3.10/site-packages/streamlit/runtime/scriptrunner/script_runner.py\", line 164, in _mpa_v1\n",
      "    page.run()\n",
      "  File \"/Users/facundocolasurdocaldironi/.pyenv/versions/3.10.13/lib/python3.10/site-packages/streamlit/navigation/page.py\", line 297, in run\n",
      "    exec(code, module.__dict__)\n",
      "  File \"/Users/facundocolasurdocaldironi/Documents/GitHub/Streamlit_APP/pages/1_code.py\", line 9, in <module>\n",
      "    model = pickle.load(model_file)\n",
      "ModuleNotFoundError: No module named 'sklearn'\n",
      "2025-05-16 08:22:42.417 Uncaught app execution\n",
      "Traceback (most recent call last):\n",
      "  File \"/Users/facundocolasurdocaldironi/.pyenv/versions/3.10.13/lib/python3.10/site-packages/streamlit/runtime/scriptrunner/exec_code.py\", line 121, in exec_func_with_error_handling\n",
      "    result = func()\n",
      "  File \"/Users/facundocolasurdocaldironi/.pyenv/versions/3.10.13/lib/python3.10/site-packages/streamlit/runtime/scriptrunner/script_runner.py\", line 643, in code_to_exec\n",
      "    _mpa_v1(self._main_script_path)\n",
      "  File \"/Users/facundocolasurdocaldironi/.pyenv/versions/3.10.13/lib/python3.10/site-packages/streamlit/runtime/scriptrunner/script_runner.py\", line 164, in _mpa_v1\n",
      "    page.run()\n",
      "  File \"/Users/facundocolasurdocaldironi/.pyenv/versions/3.10.13/lib/python3.10/site-packages/streamlit/navigation/page.py\", line 297, in run\n",
      "    exec(code, module.__dict__)\n",
      "  File \"/Users/facundocolasurdocaldironi/Documents/GitHub/Streamlit_APP/pages/1_code.py\", line 9, in <module>\n",
      "    model = pickle.load(model_file)\n",
      "ModuleNotFoundError: No module named 'sklearn'\n",
      "/Users/facundocolasurdocaldironi/.pyenv/versions/3.10.13/lib/python3.10/site-packages/sklearn/utils/validation.py:2739: UserWarning: X does not have valid feature names, but RandomForestClassifier was fitted with feature names\n",
      "  warnings.warn(\n",
      "/Users/facundocolasurdocaldironi/.pyenv/versions/3.10.13/lib/python3.10/site-packages/sklearn/utils/validation.py:2739: UserWarning: X does not have valid feature names, but RandomForestClassifier was fitted with feature names\n",
      "  warnings.warn(\n",
      "/Users/facundocolasurdocaldironi/.pyenv/versions/3.10.13/lib/python3.10/site-packages/sklearn/utils/validation.py:2739: UserWarning: X does not have valid feature names, but RandomForestClassifier was fitted with feature names\n",
      "  warnings.warn(\n",
      "/Users/facundocolasurdocaldironi/.pyenv/versions/3.10.13/lib/python3.10/site-packages/sklearn/utils/validation.py:2739: UserWarning: X does not have valid feature names, but RandomForestClassifier was fitted with feature names\n",
      "  warnings.warn(\n",
      "/Users/facundocolasurdocaldironi/.pyenv/versions/3.10.13/lib/python3.10/site-packages/sklearn/utils/validation.py:2739: UserWarning: X does not have valid feature names, but RandomForestClassifier was fitted with feature names\n",
      "  warnings.warn(\n",
      "2025-05-16 08:27:13.758 Uncaught app execution\n",
      "Traceback (most recent call last):\n",
      "  File \"/Users/facundocolasurdocaldironi/.pyenv/versions/3.10.13/lib/python3.10/site-packages/streamlit/runtime/scriptrunner/exec_code.py\", line 121, in exec_func_with_error_handling\n",
      "    result = func()\n",
      "  File \"/Users/facundocolasurdocaldironi/.pyenv/versions/3.10.13/lib/python3.10/site-packages/streamlit/runtime/scriptrunner/script_runner.py\", line 643, in code_to_exec\n",
      "    _mpa_v1(self._main_script_path)\n",
      "  File \"/Users/facundocolasurdocaldironi/.pyenv/versions/3.10.13/lib/python3.10/site-packages/streamlit/runtime/scriptrunner/script_runner.py\", line 164, in _mpa_v1\n",
      "    page.run()\n",
      "  File \"/Users/facundocolasurdocaldironi/.pyenv/versions/3.10.13/lib/python3.10/site-packages/streamlit/navigation/page.py\", line 297, in run\n",
      "    exec(code, module.__dict__)\n",
      "  File \"/Users/facundocolasurdocaldironi/Documents/GitHub/Streamlit_APP/pages/1_code.py\", line 29, in <module>\n",
      "    prediction = model.predict(features)\n",
      "  File \"/Users/facundocolasurdocaldironi/.pyenv/versions/3.10.13/lib/python3.10/site-packages/sklearn/ensemble/_forest.py\", line 904, in predict\n",
      "    proba = self.predict_proba(X)\n",
      "  File \"/Users/facundocolasurdocaldironi/.pyenv/versions/3.10.13/lib/python3.10/site-packages/sklearn/ensemble/_forest.py\", line 946, in predict_proba\n",
      "    X = self._validate_X_predict(X)\n",
      "  File \"/Users/facundocolasurdocaldironi/.pyenv/versions/3.10.13/lib/python3.10/site-packages/sklearn/ensemble/_forest.py\", line 638, in _validate_X_predict\n",
      "    X = validate_data(\n",
      "  File \"/Users/facundocolasurdocaldironi/.pyenv/versions/3.10.13/lib/python3.10/site-packages/sklearn/utils/validation.py\", line 2965, in validate_data\n",
      "    _check_n_features(_estimator, X, reset=reset)\n",
      "  File \"/Users/facundocolasurdocaldironi/.pyenv/versions/3.10.13/lib/python3.10/site-packages/sklearn/utils/validation.py\", line 2829, in _check_n_features\n",
      "    raise ValueError(\n",
      "ValueError: X has 5 features, but RandomForestClassifier is expecting 13 features as input.\n",
      "/Users/facundocolasurdocaldironi/.pyenv/versions/3.10.13/lib/python3.10/site-packages/sklearn/utils/validation.py:2739: UserWarning: X does not have valid feature names, but RandomForestClassifier was fitted with feature names\n",
      "  warnings.warn(\n",
      "/Users/facundocolasurdocaldironi/.pyenv/versions/3.10.13/lib/python3.10/site-packages/sklearn/utils/validation.py:2739: UserWarning: X does not have valid feature names, but RandomForestClassifier was fitted with feature names\n",
      "  warnings.warn(\n",
      "/Users/facundocolasurdocaldironi/.pyenv/versions/3.10.13/lib/python3.10/site-packages/sklearn/utils/validation.py:2739: UserWarning: X does not have valid feature names, but RandomForestClassifier was fitted with feature names\n",
      "  warnings.warn(\n",
      "/Users/facundocolasurdocaldironi/.pyenv/versions/3.10.13/lib/python3.10/site-packages/sklearn/utils/validation.py:2739: UserWarning: X does not have valid feature names, but RandomForestClassifier was fitted with feature names\n",
      "  warnings.warn(\n"
     ]
    }
   ],
   "source": [
    "!streamlit run app.py --server.headless true\n"
   ]
  }
 ],
 "metadata": {
  "kernelspec": {
   "display_name": "Python 3",
   "language": "python",
   "name": "python3"
  },
  "language_info": {
   "codemirror_mode": {
    "name": "ipython",
    "version": 3
   },
   "file_extension": ".py",
   "mimetype": "text/x-python",
   "name": "python",
   "nbconvert_exporter": "python",
   "pygments_lexer": "ipython3",
   "version": "3.10.13"
  }
 },
 "nbformat": 4,
 "nbformat_minor": 2
}
